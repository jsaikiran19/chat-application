{
 "cells": [
  {
   "cell_type": "markdown",
   "id": "e873e9cd",
   "metadata": {},
   "source": [
    "# This script generates data for Cassandra.\n",
    "\n",
    "Usually it will take around 20-25 mins for loading the data again depends on system and number of workers for Cassandra.\n",
    "\n",
    "Since we just have 1 worker, it can take up sometime for bulk loading the data."
   ]
  },
  {
   "cell_type": "code",
   "execution_count": null,
   "id": "30eb923a",
   "metadata": {},
   "outputs": [],
   "source": [
    "from cassandra.cluster import Cluster\n",
    "import pandas as pd"
   ]
  },
  {
   "cell_type": "code",
   "execution_count": null,
   "id": "8a605676",
   "metadata": {},
   "outputs": [],
   "source": [
    "cluster = Cluster(['127.0.0.1'],port=9042)"
   ]
  },
  {
   "cell_type": "code",
   "execution_count": null,
   "id": "baea36a4",
   "metadata": {},
   "outputs": [],
   "source": [
    "session = cluster.connect()"
   ]
  },
  {
   "cell_type": "code",
   "execution_count": null,
   "id": "c7c04360",
   "metadata": {},
   "outputs": [],
   "source": [
    "session.execute(\"DROP KEYSPACE IF EXISTS chats\")"
   ]
  },
  {
   "cell_type": "code",
   "execution_count": null,
   "id": "81273ee7",
   "metadata": {},
   "outputs": [],
   "source": [
    "session.execute(\"CREATE KEYSPACE IF NOT EXISTS chats WITH REPLICATION = { 'class' : 'SimpleStrategy', 'replication_factor' : 3 }\")"
   ]
  },
  {
   "cell_type": "code",
   "execution_count": null,
   "id": "94f2f9bc",
   "metadata": {},
   "outputs": [],
   "source": [
    "session.execute('''use chats''')"
   ]
  },
  {
   "cell_type": "code",
   "execution_count": null,
   "id": "22c6321a",
   "metadata": {},
   "outputs": [],
   "source": [
    "session.execute(\"DROP TABLE IF EXISTS messages\")"
   ]
  },
  {
   "cell_type": "code",
   "execution_count": null,
   "id": "6cbe6940",
   "metadata": {},
   "outputs": [],
   "source": [
    "session.execute('''CREATE TABLE messages (\n",
    "  channel_id text,\n",
    "  time_sent timestamp,\n",
    "  message_id timeuuid,\n",
    "  author_id text,\n",
    "  messsage text,\n",
    "  PRIMARY KEY (channel_id, message_id)\n",
    ") WITH CLUSTERING ORDER BY (message_id DESC);''')"
   ]
  },
  {
   "cell_type": "code",
   "execution_count": null,
   "id": "6f178840",
   "metadata": {},
   "outputs": [],
   "source": [
    "msgs = pd.read_csv(\"cassandra_data.csv\")"
   ]
  },
  {
   "cell_type": "code",
   "execution_count": null,
   "id": "31f8b61d",
   "metadata": {},
   "outputs": [],
   "source": [
    "for index, row in msgs.iterrows():\n",
    "    if index % 10000 == 0:\n",
    "        print(index)\n",
    "    query = '''INSERT INTO messages (channel_id,time_sent,message_id,author_id,messsage) VALUES ('%s', toTimestamp(now()), now(),'%s','%s');'''\\\n",
    "                    % (row['channel_id'],row['author_id'],row['messsage'])\n",
    "    \n",
    "    session.execute(query)"
   ]
  }
 ],
 "metadata": {
  "kernelspec": {
   "display_name": "Python 3",
   "language": "python",
   "name": "python3"
  },
  "language_info": {
   "codemirror_mode": {
    "name": "ipython",
    "version": 3
   },
   "file_extension": ".py",
   "mimetype": "text/x-python",
   "name": "python",
   "nbconvert_exporter": "python",
   "pygments_lexer": "ipython3",
   "version": "3.9.4"
  }
 },
 "nbformat": 4,
 "nbformat_minor": 5
}
